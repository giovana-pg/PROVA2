{
 "cells": [
  {
   "cell_type": "markdown",
   "id": "09323c34-6dab-4ecd-aa9a-7930b84050a1",
   "metadata": {},
   "source": [
    "Segunda avaliação de Algoritmos e Estrutura de Dados II\n",
    "\n",
    "Dado o código a seguir que implementa o algoritmo de ordenação por seleção (Selection Sort), adicione um método para encontrar e exibir o maior elemento da lista ordenada."
   ]
  },
  {
   "cell_type": "code",
   "execution_count": 7,
   "id": "e05843a7-8282-4f03-9d3c-ef2a3567931e",
   "metadata": {},
   "outputs": [
    {
     "name": "stdout",
     "output_type": "stream",
     "text": [
      "Lista original: [29, 10, 14, 37, 13]\n",
      "Lista ordenada: [10, 13, 14, 29, 37]\n",
      "Maior elemento da lista: 37\n"
     ]
    }
   ],
   "source": [
    "def selection_sort(arr):\n",
    "    for i in range(len(arr)):\n",
    "        min_idx = i\n",
    "        for j in range(i + 1, len(arr)):\n",
    "            if arr[j] < arr[min_idx]:\n",
    "                min_idx = j\n",
    "        arr[i], arr[min_idx] = arr[min_idx], arr[i]\n",
    "    return arr\n",
    "\n",
    "def find_max(lista_ordenada):\n",
    "    return lista_ordenada[-1]\n",
    "\n",
    "#Lista de exemplo\n",
    "lista = [29, 10, 14, 37, 13]\n",
    "print(\"Lista original:\", lista)\n",
    "lista_ordenada = selection_sort(lista)\n",
    "print(\"Lista ordenada:\", selection_sort(lista))\n",
    "\n",
    "#Adicione abaixo o método (find_max(lista_ordenada)) para encontrar e exibir o maior elemento da lista ordenada\n",
    "print(\"Maior elemento da lista:\", find_max(lista_ordenada))"
   ]
  },
  {
   "cell_type": "code",
   "execution_count": 8,
   "id": "3bfcd542-a449-4ce3-8495-79b70fa18bad",
   "metadata": {},
   "outputs": [
    {
     "name": "stdout",
     "output_type": "stream",
     "text": [
      "Lista original: [23, 45, 78, 12, 9, 61, 58, 90, 37, 86]\n",
      "Lista ordenada: [9, 12, 23, 37, 45, 58, 61, 78, 86, 90]\n",
      "Maior elemento da lista: 90\n"
     ]
    }
   ],
   "source": [
    "def selection_sort(arr):\n",
    "    for i in range(len(arr)):\n",
    "        min_idx = i\n",
    "        for j in range(i + 1, len(arr)):\n",
    "            if arr[j] < arr[min_idx]:\n",
    "                min_idx = j\n",
    "        arr[i], arr[min_idx] = arr[min_idx], arr[i]\n",
    "    return arr\n",
    "\n",
    "def find_max(lista_ordenada):\n",
    "    return lista_ordenada[-1]\n",
    "\n",
    "#Lista de exemplo 2\n",
    "lista = [23, 45, 78, 12, 9, 61, 58, 90, 37, 86]\n",
    "print(\"Lista original:\", lista)\n",
    "lista_ordenada = selection_sort(lista)\n",
    "print(\"Lista ordenada:\", selection_sort(lista))\n",
    "\n",
    "#Adicione abaixo o método (find_max(lista_ordenada)) para encontrar e exibir o maior elemento da lista ordenada (testando de novo)\n",
    "print(\"Maior elemento da lista:\", find_max(lista_ordenada))"
   ]
  }
 ],
 "metadata": {
  "kernelspec": {
   "display_name": "Python 3 (ipykernel)",
   "language": "python",
   "name": "python3"
  },
  "language_info": {
   "codemirror_mode": {
    "name": "ipython",
    "version": 3
   },
   "file_extension": ".py",
   "mimetype": "text/x-python",
   "name": "python",
   "nbconvert_exporter": "python",
   "pygments_lexer": "ipython3",
   "version": "3.12.4"
  }
 },
 "nbformat": 4,
 "nbformat_minor": 5
}
